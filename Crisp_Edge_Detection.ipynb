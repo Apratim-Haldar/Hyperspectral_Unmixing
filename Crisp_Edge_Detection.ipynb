{
 "cells": [
  {
   "cell_type": "code",
   "execution_count": 1,
   "id": "487729a2-8068-42a2-967a-ebcca3c2c4fe",
   "metadata": {},
   "outputs": [
    {
     "name": "stdout",
     "output_type": "stream",
     "text": [
      "Requirement already satisfied: opencv-python in c:\\python312\\lib\\site-packages (4.9.0.80)\n",
      "Requirement already satisfied: numpy>=1.21.2 in c:\\python312\\lib\\site-packages (from opencv-python) (1.26.4)\n",
      "Note: you may need to restart the kernel to use updated packages.\n"
     ]
    }
   ],
   "source": [
    "pip install opencv-python\n"
   ]
  },
  {
   "cell_type": "code",
   "execution_count": 3,
   "id": "23ad8977-2d5f-47ff-82c6-c1d28765204b",
   "metadata": {},
   "outputs": [
    {
     "name": "stdout",
     "output_type": "stream",
     "text": [
      "Original image saved as original_image.jpg\n",
      "Detected edges saved as detected_edges.jpg\n"
     ]
    }
   ],
   "source": [
    "import cv2\n",
    "import numpy as np\n",
    "\n",
    "# Load an image from file\n",
    "image = cv2.imread('output.png')\n",
    "\n",
    "if image is not None:\n",
    "    # Preprocess the image (if necessary)\n",
    "    # ...\n",
    "\n",
    "    # Apply edge detection using CATS\n",
    "    edges = cv2.Canny(image, 100, 200)\n",
    "\n",
    "    # Save the original image and the detected edges to file\n",
    "    cv2.imwrite('original_image.jpg', image)\n",
    "    cv2.imwrite('detected_edges.jpg', edges)\n",
    "\n",
    "    # Display the saved images in your web browser or file explorer\n",
    "    print(\"Original image saved as original_image.jpg\")\n",
    "    print(\"Detected edges saved as detected_edges.jpg\")\n",
    "else:\n",
    "    print(\"Error: Could not open the image file.\")"
   ]
  },
  {
   "cell_type": "code",
   "execution_count": null,
   "id": "6e82d450",
   "metadata": {},
   "outputs": [],
   "source": [
    "print(\"test\")"
   ]
  },
  {
   "cell_type": "code",
   "execution_count": null,
   "id": "710e09f3-14fa-47d4-aa3a-4a485ecf4f9a",
   "metadata": {},
   "outputs": [],
   "source": []
  }
 ],
 "metadata": {
  "kernelspec": {
   "display_name": "Python 3 (ipykernel)",
   "language": "python",
   "name": "python3"
  },
  "language_info": {
   "codemirror_mode": {
    "name": "ipython",
    "version": 3
   },
   "file_extension": ".py",
   "mimetype": "text/x-python",
   "name": "python",
   "nbconvert_exporter": "python",
   "pygments_lexer": "ipython3",
   "version": "3.12.2"
  }
 },
 "nbformat": 4,
 "nbformat_minor": 5
}
